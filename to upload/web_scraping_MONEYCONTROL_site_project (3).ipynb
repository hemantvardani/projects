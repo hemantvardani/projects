{
  "nbformat": 4,
  "nbformat_minor": 0,
  "metadata": {
    "colab": {
      "name": "web_scraping_MONEYCONTROL_site_project.ipynb",
      "provenance": []
    },
    "kernelspec": {
      "name": "python3",
      "display_name": "Python 3"
    },
    "language_info": {
      "name": "python"
    }
  },
  "cells": [
    {
      "cell_type": "markdown",
      "source": [
        "# **Project to WEB SCRAPE the MONEYCONTROL site and Get real time Alert through mail**\n",
        "\n",
        "\n",
        "\n",
        "\n",
        "\n",
        "\n",
        "\n",
        "---\n",
        "\n",
        "\n",
        "\n",
        "\n",
        "\n",
        "\n",
        "\n",
        "\n",
        "\n",
        "\n"
      ],
      "metadata": {
        "id": "uQ5cEt1dIkov"
      }
    },
    {
      "cell_type": "markdown",
      "source": [
        "\n",
        "\n",
        "# What **Objective** we have?\n",
        "To Web Scrape the price of stocks from the Most Popular Indian Stock Market site for NIFTY 50 stocks. At the same time , notify user through mail service when price of stock has fallen below Trigger Price.\n",
        "\n",
        "\n",
        "\n",
        "\n",
        "\n",
        "\n"
      ],
      "metadata": {
        "id": "ZmLkQMA3IkzZ"
      }
    },
    {
      "cell_type": "markdown",
      "source": [
        "# **STEP-WISE PROCESS** ,  that we will follow?\n",
        "\n",
        "\n",
        "\n",
        "**1**.    Web Scraping the MONEYCONTROL site to get list of all the NIFTY 50 stock.\n",
        "\n",
        "\n",
        "**2**.   For all 50 stocks , scrape the price of it.\n",
        "\n",
        "\n",
        "**3**.   Do send ALERT mail if price of stock has hit its' trigger price. \n",
        "\n",
        "\n",
        "---\n",
        "\n"
      ],
      "metadata": {
        "id": "DR6E58vZIraS"
      }
    },
    {
      "cell_type": "markdown",
      "source": [
        "## **STEP-** **1**. Web Scraping the MONEYCONTROL site to get list of all the NIFTY 50 stock."
      ],
      "metadata": {
        "id": "yQ8kuawsIriV"
      }
    },
    {
      "cell_type": "code",
      "execution_count": 1,
      "metadata": {
        "colab": {
          "base_uri": "https://localhost:8080/"
        },
        "id": "eLeRddF1IT8b",
        "outputId": "6b3d1bf0-6356-4ac5-8ad7-616b111588b5"
      },
      "outputs": [
        {
          "output_type": "stream",
          "name": "stdout",
          "text": [
            "\u001b[K     |████████████████████████████████| 97 kB 5.2 MB/s \n",
            "\u001b[K     |████████████████████████████████| 63 kB 1.5 MB/s \n",
            "\u001b[31mERROR: pip's dependency resolver does not currently take into account all the packages that are installed. This behaviour is the source of the following dependency conflicts.\n",
            "google-colab 1.0.0 requires requests~=2.23.0, but you have requests 2.27.1 which is incompatible.\n",
            "datascience 0.10.6 requires folium==0.2.1, but you have folium 0.8.3 which is incompatible.\u001b[0m\n",
            "\u001b[?25h\u001b[31mERROR: Could not find a version that satisfies the requirement smtplib (from versions: none)\u001b[0m\n",
            "\u001b[31mERROR: No matching distribution found for smtplib\u001b[0m\n"
          ]
        }
      ],
      "source": [
        "#import all necessary pakeges \n",
        "\n",
        "#They are    requests      ( used here for getting content of site) \n",
        "#            Beautifulsoup ( used here for web scraping)\n",
        "#            smtplib       ( used here for send mails)\n",
        "#            pandas        ( used here for creating dataframe) \n",
        "#            time          ( used here for to sleep execution for some momemts)\n",
        "import pandas as pd\n",
        "!pip install beautifulsoup4 --upgrade --quiet\n",
        "from bs4 import BeautifulSoup\n",
        "!pip install requests --upgrade --quiet\n",
        "!pip install smtplib --upgrade --quiet\n",
        "import requests\n",
        "import time \n",
        "import smtplib"
      ]
    },
    {
      "cell_type": "code",
      "source": [
        "#url of money control site from where we will collect 50 nifty stock individual urls.\n",
        "url = 'https://www.moneycontrol.com/markets/indian-indices/'\n",
        "\n",
        "\n",
        "response= requests.get(url)"
      ],
      "metadata": {
        "id": "PpCrY7ldJAla"
      },
      "execution_count": 2,
      "outputs": []
    },
    {
      "cell_type": "code",
      "source": [
        "# HTTP response status code is 200 for successful responce\n",
        "\n",
        "if response.status_code != 200 :\n",
        "  raise Exception('Failed to load page {}'.format(nifty50_url))"
      ],
      "metadata": {
        "id": "jomCWOosJb25"
      },
      "execution_count": 3,
      "outputs": []
    },
    {
      "cell_type": "code",
      "source": [
        "# Whole content in a Variable\n",
        "\n",
        "complete_content= response.text\n",
        "complete_content[:100]"
      ],
      "metadata": {
        "colab": {
          "base_uri": "https://localhost:8080/",
          "height": 36
        },
        "id": "FWu8vygxJw31",
        "outputId": "9ac44e5a-1af0-4922-a620-2be68095b9d9"
      },
      "execution_count": 4,
      "outputs": [
        {
          "output_type": "execute_result",
          "data": {
            "text/plain": [
              "'<!DOCTYPE html>\\n<html lang=\"en\">\\n<head>\\n\\n<meta http-equiv=\"Content-Type\" content=\"text/html; charset'"
            ],
            "application/vnd.google.colaboratory.intrinsic+json": {
              "type": "string"
            }
          },
          "metadata": {},
          "execution_count": 4
        }
      ]
    },
    {
      "cell_type": "code",
      "source": [
        "# Passing HTML content through beautifulSoup, so that we can perform desired operation later\n",
        "\n",
        "doc=BeautifulSoup(response.text, 'html.parser')"
      ],
      "metadata": {
        "id": "Zbb98TvaJw9E"
      },
      "execution_count": 5,
      "outputs": []
    },
    {
      "cell_type": "code",
      "source": [
        "# In HTML code , we can find all link of 50  stock in a tag\n",
        "#find all is function to find a tag ,with some specified class ( here for example  with barlink class)\n",
        "\n",
        "input_tag= doc.find_all('a', {'class': 'barLink'})\n",
        "\n",
        "input_tag[:5]"
      ],
      "metadata": {
        "colab": {
          "base_uri": "https://localhost:8080/"
        },
        "id": "kWVsvKudJxFZ",
        "outputId": "b81fdb21-32fc-49f6-8ab3-b06488531301"
      },
      "execution_count": 6,
      "outputs": [
        {
          "output_type": "execute_result",
          "data": {
            "text/plain": [
              "[<a class=\"barLink\" href=\"https://www.moneycontrol.com/india/stockpricequote/miscellaneous/titancompany/TI01\" target=\"_blank\">Titan Company</a>,\n",
              " <a class=\"barLink\" href=\"https://www.moneycontrol.com/india/stockpricequote/computers-software/techmahindra/TM4\" target=\"_blank\">Tech Mahindra</a>,\n",
              " <a class=\"barLink\" href=\"https://www.moneycontrol.com/india/stockpricequote/auto-cars-jeeps/marutisuzukiindia/MS24\" target=\"_blank\">Maruti Suzuki</a>,\n",
              " <a class=\"barLink\" href=\"https://www.moneycontrol.com/india/stockpricequote/pharmaceuticals/cipla/C\" target=\"_blank\">Cipla</a>,\n",
              " <a class=\"barLink\" href=\"https://www.moneycontrol.com/india/stockpricequote/refineries/indianoilcorporation/IOC\" target=\"_blank\">IOC</a>]"
            ]
          },
          "metadata": {},
          "execution_count": 6
        }
      ]
    },
    {
      "cell_type": "code",
      "source": [
        "\n",
        "names_of_stock=[] # variable to store all 50 stock name\n",
        "url_of_stock=[]   # variable to store all 50 stock url\n",
        "for i in input_tag:\n",
        " names_of_stock.append(i.text.strip()) \n",
        " url_of_stock.append(i['href'])\n",
        "\n",
        "\n",
        "#storing in DATAFRAME \n",
        "data={'Names' : names_of_stock, 'URL':url_of_stock}\n",
        "df=pd.DataFrame(data)\n",
        "df"
      ],
      "metadata": {
        "colab": {
          "base_uri": "https://localhost:8080/",
          "height": 1000
        },
        "id": "F20k_ja1JxJV",
        "outputId": "be845044-45ba-4d00-f291-441985eb04c9"
      },
      "execution_count": 7,
      "outputs": [
        {
          "output_type": "execute_result",
          "data": {
            "text/plain": [
              "              Names                                                URL\n",
              "0     Titan Company  https://www.moneycontrol.com/india/stockpriceq...\n",
              "1     Tech Mahindra  https://www.moneycontrol.com/india/stockpriceq...\n",
              "2     Maruti Suzuki  https://www.moneycontrol.com/india/stockpriceq...\n",
              "3             Cipla  https://www.moneycontrol.com/india/stockpriceq...\n",
              "4               IOC  https://www.moneycontrol.com/india/stockpriceq...\n",
              "5            Nestle  https://www.moneycontrol.com/india/stockpriceq...\n",
              "6     Hero Motocorp  https://www.moneycontrol.com/india/stockpriceq...\n",
              "7     Eicher Motors  https://www.moneycontrol.com/india/stockpriceq...\n",
              "8             Wipro  https://www.moneycontrol.com/india/stockpriceq...\n",
              "9            Larsen  https://www.moneycontrol.com/india/stockpriceq...\n",
              "10              TCS  https://www.moneycontrol.com/india/stockpriceq...\n",
              "11         HCL Tech  https://www.moneycontrol.com/india/stockpriceq...\n",
              "12  TATA Cons. Prod  https://www.moneycontrol.com/india/stockpriceq...\n",
              "13             ONGC  https://www.moneycontrol.com/india/stockpriceq...\n",
              "14       Divis Labs  https://www.moneycontrol.com/india/stockpriceq...\n",
              "15       Tata Steel  https://www.moneycontrol.com/india/stockpriceq...\n",
              "16        HDFC Bank  https://www.moneycontrol.com/india/stockpriceq...\n",
              "17       Sun Pharma  https://www.moneycontrol.com/india/stockpriceq...\n",
              "18       ICICI Bank  https://www.moneycontrol.com/india/stockpriceq...\n",
              "19       Coal India  https://www.moneycontrol.com/india/stockpriceq...\n",
              "20              HUL  https://www.moneycontrol.com/india/stockpriceq...\n",
              "21             BPCL  https://www.moneycontrol.com/india/stockpriceq...\n",
              "22  UltraTechCement  https://www.moneycontrol.com/india/stockpriceq...\n",
              "23              ITC  https://www.moneycontrol.com/india/stockpriceq...\n",
              "24          Infosys  https://www.moneycontrol.com/india/stockpriceq...\n",
              "25        HDFC Life  https://www.moneycontrol.com/india/stockpriceq...\n",
              "26  Power Grid Corp  https://www.moneycontrol.com/india/stockpriceq...\n",
              "27           Grasim  https://www.moneycontrol.com/india/stockpriceq...\n",
              "28             NTPC  https://www.moneycontrol.com/india/stockpriceq...\n",
              "29    Bajaj Finance  https://www.moneycontrol.com/india/stockpriceq...\n",
              "30             HDFC  https://www.moneycontrol.com/india/stockpriceq...\n",
              "31        Britannia  https://www.moneycontrol.com/india/stockpriceq...\n",
              "32    Bajaj Finserv  https://www.moneycontrol.com/india/stockpriceq...\n",
              "33      Tata Motors  https://www.moneycontrol.com/india/stockpriceq...\n",
              "34        Axis Bank  https://www.moneycontrol.com/india/stockpriceq...\n",
              "35              M&M  https://www.moneycontrol.com/india/stockpriceq...\n",
              "36              UPL  https://www.moneycontrol.com/india/stockpriceq...\n",
              "37    Shree Cements  https://www.moneycontrol.com/india/stockpriceq...\n",
              "38       Bajaj Auto  https://www.moneycontrol.com/india/stockpriceq...\n",
              "39      Adani Ports  https://www.moneycontrol.com/india/stockpriceq...\n",
              "40        JSW Steel  https://www.moneycontrol.com/india/stockpriceq...\n",
              "41   Dr Reddys Labs  https://www.moneycontrol.com/india/stockpriceq...\n",
              "42              SBI  https://www.moneycontrol.com/india/stockpriceq...\n",
              "43     Asian Paints  https://www.moneycontrol.com/india/stockpriceq...\n",
              "44         Reliance  https://www.moneycontrol.com/india/stockpriceq...\n",
              "45   Kotak Mahindra  https://www.moneycontrol.com/india/stockpriceq...\n",
              "46    Bharti Airtel  https://www.moneycontrol.com/india/stockpriceq...\n",
              "47  SBI Life Insura  https://www.moneycontrol.com/india/stockpriceq...\n",
              "48    IndusInd Bank  https://www.moneycontrol.com/india/stockpriceq...\n",
              "49         Hindalco  https://www.moneycontrol.com/india/stockpriceq..."
            ],
            "text/html": [
              "\n",
              "  <div id=\"df-95a62b61-634d-4990-b8e1-c98c7464cacd\">\n",
              "    <div class=\"colab-df-container\">\n",
              "      <div>\n",
              "<style scoped>\n",
              "    .dataframe tbody tr th:only-of-type {\n",
              "        vertical-align: middle;\n",
              "    }\n",
              "\n",
              "    .dataframe tbody tr th {\n",
              "        vertical-align: top;\n",
              "    }\n",
              "\n",
              "    .dataframe thead th {\n",
              "        text-align: right;\n",
              "    }\n",
              "</style>\n",
              "<table border=\"1\" class=\"dataframe\">\n",
              "  <thead>\n",
              "    <tr style=\"text-align: right;\">\n",
              "      <th></th>\n",
              "      <th>Names</th>\n",
              "      <th>URL</th>\n",
              "    </tr>\n",
              "  </thead>\n",
              "  <tbody>\n",
              "    <tr>\n",
              "      <th>0</th>\n",
              "      <td>Titan Company</td>\n",
              "      <td>https://www.moneycontrol.com/india/stockpriceq...</td>\n",
              "    </tr>\n",
              "    <tr>\n",
              "      <th>1</th>\n",
              "      <td>Tech Mahindra</td>\n",
              "      <td>https://www.moneycontrol.com/india/stockpriceq...</td>\n",
              "    </tr>\n",
              "    <tr>\n",
              "      <th>2</th>\n",
              "      <td>Maruti Suzuki</td>\n",
              "      <td>https://www.moneycontrol.com/india/stockpriceq...</td>\n",
              "    </tr>\n",
              "    <tr>\n",
              "      <th>3</th>\n",
              "      <td>Cipla</td>\n",
              "      <td>https://www.moneycontrol.com/india/stockpriceq...</td>\n",
              "    </tr>\n",
              "    <tr>\n",
              "      <th>4</th>\n",
              "      <td>IOC</td>\n",
              "      <td>https://www.moneycontrol.com/india/stockpriceq...</td>\n",
              "    </tr>\n",
              "    <tr>\n",
              "      <th>5</th>\n",
              "      <td>Nestle</td>\n",
              "      <td>https://www.moneycontrol.com/india/stockpriceq...</td>\n",
              "    </tr>\n",
              "    <tr>\n",
              "      <th>6</th>\n",
              "      <td>Hero Motocorp</td>\n",
              "      <td>https://www.moneycontrol.com/india/stockpriceq...</td>\n",
              "    </tr>\n",
              "    <tr>\n",
              "      <th>7</th>\n",
              "      <td>Eicher Motors</td>\n",
              "      <td>https://www.moneycontrol.com/india/stockpriceq...</td>\n",
              "    </tr>\n",
              "    <tr>\n",
              "      <th>8</th>\n",
              "      <td>Wipro</td>\n",
              "      <td>https://www.moneycontrol.com/india/stockpriceq...</td>\n",
              "    </tr>\n",
              "    <tr>\n",
              "      <th>9</th>\n",
              "      <td>Larsen</td>\n",
              "      <td>https://www.moneycontrol.com/india/stockpriceq...</td>\n",
              "    </tr>\n",
              "    <tr>\n",
              "      <th>10</th>\n",
              "      <td>TCS</td>\n",
              "      <td>https://www.moneycontrol.com/india/stockpriceq...</td>\n",
              "    </tr>\n",
              "    <tr>\n",
              "      <th>11</th>\n",
              "      <td>HCL Tech</td>\n",
              "      <td>https://www.moneycontrol.com/india/stockpriceq...</td>\n",
              "    </tr>\n",
              "    <tr>\n",
              "      <th>12</th>\n",
              "      <td>TATA Cons. Prod</td>\n",
              "      <td>https://www.moneycontrol.com/india/stockpriceq...</td>\n",
              "    </tr>\n",
              "    <tr>\n",
              "      <th>13</th>\n",
              "      <td>ONGC</td>\n",
              "      <td>https://www.moneycontrol.com/india/stockpriceq...</td>\n",
              "    </tr>\n",
              "    <tr>\n",
              "      <th>14</th>\n",
              "      <td>Divis Labs</td>\n",
              "      <td>https://www.moneycontrol.com/india/stockpriceq...</td>\n",
              "    </tr>\n",
              "    <tr>\n",
              "      <th>15</th>\n",
              "      <td>Tata Steel</td>\n",
              "      <td>https://www.moneycontrol.com/india/stockpriceq...</td>\n",
              "    </tr>\n",
              "    <tr>\n",
              "      <th>16</th>\n",
              "      <td>HDFC Bank</td>\n",
              "      <td>https://www.moneycontrol.com/india/stockpriceq...</td>\n",
              "    </tr>\n",
              "    <tr>\n",
              "      <th>17</th>\n",
              "      <td>Sun Pharma</td>\n",
              "      <td>https://www.moneycontrol.com/india/stockpriceq...</td>\n",
              "    </tr>\n",
              "    <tr>\n",
              "      <th>18</th>\n",
              "      <td>ICICI Bank</td>\n",
              "      <td>https://www.moneycontrol.com/india/stockpriceq...</td>\n",
              "    </tr>\n",
              "    <tr>\n",
              "      <th>19</th>\n",
              "      <td>Coal India</td>\n",
              "      <td>https://www.moneycontrol.com/india/stockpriceq...</td>\n",
              "    </tr>\n",
              "    <tr>\n",
              "      <th>20</th>\n",
              "      <td>HUL</td>\n",
              "      <td>https://www.moneycontrol.com/india/stockpriceq...</td>\n",
              "    </tr>\n",
              "    <tr>\n",
              "      <th>21</th>\n",
              "      <td>BPCL</td>\n",
              "      <td>https://www.moneycontrol.com/india/stockpriceq...</td>\n",
              "    </tr>\n",
              "    <tr>\n",
              "      <th>22</th>\n",
              "      <td>UltraTechCement</td>\n",
              "      <td>https://www.moneycontrol.com/india/stockpriceq...</td>\n",
              "    </tr>\n",
              "    <tr>\n",
              "      <th>23</th>\n",
              "      <td>ITC</td>\n",
              "      <td>https://www.moneycontrol.com/india/stockpriceq...</td>\n",
              "    </tr>\n",
              "    <tr>\n",
              "      <th>24</th>\n",
              "      <td>Infosys</td>\n",
              "      <td>https://www.moneycontrol.com/india/stockpriceq...</td>\n",
              "    </tr>\n",
              "    <tr>\n",
              "      <th>25</th>\n",
              "      <td>HDFC Life</td>\n",
              "      <td>https://www.moneycontrol.com/india/stockpriceq...</td>\n",
              "    </tr>\n",
              "    <tr>\n",
              "      <th>26</th>\n",
              "      <td>Power Grid Corp</td>\n",
              "      <td>https://www.moneycontrol.com/india/stockpriceq...</td>\n",
              "    </tr>\n",
              "    <tr>\n",
              "      <th>27</th>\n",
              "      <td>Grasim</td>\n",
              "      <td>https://www.moneycontrol.com/india/stockpriceq...</td>\n",
              "    </tr>\n",
              "    <tr>\n",
              "      <th>28</th>\n",
              "      <td>NTPC</td>\n",
              "      <td>https://www.moneycontrol.com/india/stockpriceq...</td>\n",
              "    </tr>\n",
              "    <tr>\n",
              "      <th>29</th>\n",
              "      <td>Bajaj Finance</td>\n",
              "      <td>https://www.moneycontrol.com/india/stockpriceq...</td>\n",
              "    </tr>\n",
              "    <tr>\n",
              "      <th>30</th>\n",
              "      <td>HDFC</td>\n",
              "      <td>https://www.moneycontrol.com/india/stockpriceq...</td>\n",
              "    </tr>\n",
              "    <tr>\n",
              "      <th>31</th>\n",
              "      <td>Britannia</td>\n",
              "      <td>https://www.moneycontrol.com/india/stockpriceq...</td>\n",
              "    </tr>\n",
              "    <tr>\n",
              "      <th>32</th>\n",
              "      <td>Bajaj Finserv</td>\n",
              "      <td>https://www.moneycontrol.com/india/stockpriceq...</td>\n",
              "    </tr>\n",
              "    <tr>\n",
              "      <th>33</th>\n",
              "      <td>Tata Motors</td>\n",
              "      <td>https://www.moneycontrol.com/india/stockpriceq...</td>\n",
              "    </tr>\n",
              "    <tr>\n",
              "      <th>34</th>\n",
              "      <td>Axis Bank</td>\n",
              "      <td>https://www.moneycontrol.com/india/stockpriceq...</td>\n",
              "    </tr>\n",
              "    <tr>\n",
              "      <th>35</th>\n",
              "      <td>M&amp;M</td>\n",
              "      <td>https://www.moneycontrol.com/india/stockpriceq...</td>\n",
              "    </tr>\n",
              "    <tr>\n",
              "      <th>36</th>\n",
              "      <td>UPL</td>\n",
              "      <td>https://www.moneycontrol.com/india/stockpriceq...</td>\n",
              "    </tr>\n",
              "    <tr>\n",
              "      <th>37</th>\n",
              "      <td>Shree Cements</td>\n",
              "      <td>https://www.moneycontrol.com/india/stockpriceq...</td>\n",
              "    </tr>\n",
              "    <tr>\n",
              "      <th>38</th>\n",
              "      <td>Bajaj Auto</td>\n",
              "      <td>https://www.moneycontrol.com/india/stockpriceq...</td>\n",
              "    </tr>\n",
              "    <tr>\n",
              "      <th>39</th>\n",
              "      <td>Adani Ports</td>\n",
              "      <td>https://www.moneycontrol.com/india/stockpriceq...</td>\n",
              "    </tr>\n",
              "    <tr>\n",
              "      <th>40</th>\n",
              "      <td>JSW Steel</td>\n",
              "      <td>https://www.moneycontrol.com/india/stockpriceq...</td>\n",
              "    </tr>\n",
              "    <tr>\n",
              "      <th>41</th>\n",
              "      <td>Dr Reddys Labs</td>\n",
              "      <td>https://www.moneycontrol.com/india/stockpriceq...</td>\n",
              "    </tr>\n",
              "    <tr>\n",
              "      <th>42</th>\n",
              "      <td>SBI</td>\n",
              "      <td>https://www.moneycontrol.com/india/stockpriceq...</td>\n",
              "    </tr>\n",
              "    <tr>\n",
              "      <th>43</th>\n",
              "      <td>Asian Paints</td>\n",
              "      <td>https://www.moneycontrol.com/india/stockpriceq...</td>\n",
              "    </tr>\n",
              "    <tr>\n",
              "      <th>44</th>\n",
              "      <td>Reliance</td>\n",
              "      <td>https://www.moneycontrol.com/india/stockpriceq...</td>\n",
              "    </tr>\n",
              "    <tr>\n",
              "      <th>45</th>\n",
              "      <td>Kotak Mahindra</td>\n",
              "      <td>https://www.moneycontrol.com/india/stockpriceq...</td>\n",
              "    </tr>\n",
              "    <tr>\n",
              "      <th>46</th>\n",
              "      <td>Bharti Airtel</td>\n",
              "      <td>https://www.moneycontrol.com/india/stockpriceq...</td>\n",
              "    </tr>\n",
              "    <tr>\n",
              "      <th>47</th>\n",
              "      <td>SBI Life Insura</td>\n",
              "      <td>https://www.moneycontrol.com/india/stockpriceq...</td>\n",
              "    </tr>\n",
              "    <tr>\n",
              "      <th>48</th>\n",
              "      <td>IndusInd Bank</td>\n",
              "      <td>https://www.moneycontrol.com/india/stockpriceq...</td>\n",
              "    </tr>\n",
              "    <tr>\n",
              "      <th>49</th>\n",
              "      <td>Hindalco</td>\n",
              "      <td>https://www.moneycontrol.com/india/stockpriceq...</td>\n",
              "    </tr>\n",
              "  </tbody>\n",
              "</table>\n",
              "</div>\n",
              "      <button class=\"colab-df-convert\" onclick=\"convertToInteractive('df-95a62b61-634d-4990-b8e1-c98c7464cacd')\"\n",
              "              title=\"Convert this dataframe to an interactive table.\"\n",
              "              style=\"display:none;\">\n",
              "        \n",
              "  <svg xmlns=\"http://www.w3.org/2000/svg\" height=\"24px\"viewBox=\"0 0 24 24\"\n",
              "       width=\"24px\">\n",
              "    <path d=\"M0 0h24v24H0V0z\" fill=\"none\"/>\n",
              "    <path d=\"M18.56 5.44l.94 2.06.94-2.06 2.06-.94-2.06-.94-.94-2.06-.94 2.06-2.06.94zm-11 1L8.5 8.5l.94-2.06 2.06-.94-2.06-.94L8.5 2.5l-.94 2.06-2.06.94zm10 10l.94 2.06.94-2.06 2.06-.94-2.06-.94-.94-2.06-.94 2.06-2.06.94z\"/><path d=\"M17.41 7.96l-1.37-1.37c-.4-.4-.92-.59-1.43-.59-.52 0-1.04.2-1.43.59L10.3 9.45l-7.72 7.72c-.78.78-.78 2.05 0 2.83L4 21.41c.39.39.9.59 1.41.59.51 0 1.02-.2 1.41-.59l7.78-7.78 2.81-2.81c.8-.78.8-2.07 0-2.86zM5.41 20L4 18.59l7.72-7.72 1.47 1.35L5.41 20z\"/>\n",
              "  </svg>\n",
              "      </button>\n",
              "      \n",
              "  <style>\n",
              "    .colab-df-container {\n",
              "      display:flex;\n",
              "      flex-wrap:wrap;\n",
              "      gap: 12px;\n",
              "    }\n",
              "\n",
              "    .colab-df-convert {\n",
              "      background-color: #E8F0FE;\n",
              "      border: none;\n",
              "      border-radius: 50%;\n",
              "      cursor: pointer;\n",
              "      display: none;\n",
              "      fill: #1967D2;\n",
              "      height: 32px;\n",
              "      padding: 0 0 0 0;\n",
              "      width: 32px;\n",
              "    }\n",
              "\n",
              "    .colab-df-convert:hover {\n",
              "      background-color: #E2EBFA;\n",
              "      box-shadow: 0px 1px 2px rgba(60, 64, 67, 0.3), 0px 1px 3px 1px rgba(60, 64, 67, 0.15);\n",
              "      fill: #174EA6;\n",
              "    }\n",
              "\n",
              "    [theme=dark] .colab-df-convert {\n",
              "      background-color: #3B4455;\n",
              "      fill: #D2E3FC;\n",
              "    }\n",
              "\n",
              "    [theme=dark] .colab-df-convert:hover {\n",
              "      background-color: #434B5C;\n",
              "      box-shadow: 0px 1px 3px 1px rgba(0, 0, 0, 0.15);\n",
              "      filter: drop-shadow(0px 1px 2px rgba(0, 0, 0, 0.3));\n",
              "      fill: #FFFFFF;\n",
              "    }\n",
              "  </style>\n",
              "\n",
              "      <script>\n",
              "        const buttonEl =\n",
              "          document.querySelector('#df-95a62b61-634d-4990-b8e1-c98c7464cacd button.colab-df-convert');\n",
              "        buttonEl.style.display =\n",
              "          google.colab.kernel.accessAllowed ? 'block' : 'none';\n",
              "\n",
              "        async function convertToInteractive(key) {\n",
              "          const element = document.querySelector('#df-95a62b61-634d-4990-b8e1-c98c7464cacd');\n",
              "          const dataTable =\n",
              "            await google.colab.kernel.invokeFunction('convertToInteractive',\n",
              "                                                     [key], {});\n",
              "          if (!dataTable) return;\n",
              "\n",
              "          const docLinkHtml = 'Like what you see? Visit the ' +\n",
              "            '<a target=\"_blank\" href=https://colab.research.google.com/notebooks/data_table.ipynb>data table notebook</a>'\n",
              "            + ' to learn more about interactive tables.';\n",
              "          element.innerHTML = '';\n",
              "          dataTable['output_type'] = 'display_data';\n",
              "          await google.colab.output.renderOutput(dataTable, element);\n",
              "          const docLink = document.createElement('div');\n",
              "          docLink.innerHTML = docLinkHtml;\n",
              "          element.appendChild(docLink);\n",
              "        }\n",
              "      </script>\n",
              "    </div>\n",
              "  </div>\n",
              "  "
            ]
          },
          "metadata": {},
          "execution_count": 7
        }
      ]
    },
    {
      "cell_type": "code",
      "source": [
        ""
      ],
      "metadata": {
        "id": "wjutej-xJxM0"
      },
      "execution_count": 7,
      "outputs": []
    },
    {
      "cell_type": "code",
      "source": [
        ""
      ],
      "metadata": {
        "id": "3aaPr55_JxTa"
      },
      "execution_count": 7,
      "outputs": []
    },
    {
      "cell_type": "markdown",
      "source": [
        "# **STEP-** **2**. For all 50 stocks , scrape the price of it."
      ],
      "metadata": {
        "id": "7-lPjxgTNhm3"
      }
    },
    {
      "cell_type": "markdown",
      "source": [
        "## NOW THIS IS OPTIONAL \n",
        "###  Sometimes to get fast result , we take only top 10 stocks into account\n",
        "\n",
        "\n",
        "\n",
        "```\n",
        "url_of_stock= url_of_stock[0:10]\n",
        "```\n",
        "\n"
      ],
      "metadata": {
        "id": "gP3nIvqvwVBY"
      }
    },
    {
      "cell_type": "code",
      "source": [
        "\n",
        "url_of_stock= url_of_stock[0:10]\n",
        "\n",
        "\n"
      ],
      "metadata": {
        "id": "eSqBon7gwj9O"
      },
      "execution_count": 8,
      "outputs": []
    },
    {
      "cell_type": "code",
      "source": [
        "#function to content STRING format like this '17,393.98' to FLOAT '17393.98'\n",
        "\n",
        "\n",
        "def convert_to_FLOAT(s):\n",
        "  string=''\n",
        "  for i in range(0, len(s)):   # ',' is removed from string format\n",
        "    if s[i]!=',':\n",
        "        string=string+ s[i]\n",
        "  new=0\n",
        "  flag=0\n",
        "  for i in range(0, len(string)): # string got is converted to FLOAT\n",
        "    if string[i]=='.':\n",
        "      flag=1\n",
        "      index=i \n",
        "    elif flag==0:\n",
        "      new=new*10 +int(string[i])\n",
        "    else:\n",
        "      new=new+ int(string[i])/pow(10,i-index)\n",
        "\n",
        "  return new      "
      ],
      "metadata": {
        "id": "TQzw9YigJxWq"
      },
      "execution_count": 9,
      "outputs": []
    },
    {
      "cell_type": "code",
      "source": [
        "# FOR LOOP to get all stocks price\n",
        "\n",
        "price_of_stock=[]   # variable to store all 50 stocks price\n",
        "# This price_of_stock variable is created here , to set trigger price here.\n",
        " \n",
        "\n",
        "\n",
        "for i in url_of_stock:\n",
        "  url=i\n",
        "  res= requests.get(url)    # each url is parsed\n",
        "  res.status_code\n",
        "  if res.status_code != 200 :\n",
        "    raise Exception('Failed to load page {}'.format(url))\n",
        "  doc_each=BeautifulSoup(res.text, 'html.parser')\n",
        "  input_tags_each= doc_each.find_all('input',{'id':'nsespotval'}) # price of stock is in input tag having nsespotval class\n",
        "\n",
        "  \n",
        "  \n",
        "  stock_value_each=input_tags_each[0]['value']  # value is extacted \n",
        "  price_of_stock.append(convert_to_FLOAT(stock_value_each))   #fun called to convert string to float\n",
        "\n"
      ],
      "metadata": {
        "id": "dPSRTKbAOijF"
      },
      "execution_count": 10,
      "outputs": []
    },
    {
      "cell_type": "code",
      "source": [
        "# Now using price_of_stock variable we set trigger price of each stock as 90% of each stock price\n",
        "# This is because , when price of stock goes below 10%( so price reach trigger price )  to the price we bought( price_of_stock) , then its time to square off \n",
        "\n",
        "\n",
        "trigger_price=[]\n",
        "for i in price_of_stock:\n",
        "  trigger_price.append(i*0.9)\n",
        "\n",
        "\n",
        "table={'Buying_price' : price_of_stock, 'Trigger Price':trigger_price}\n",
        "price_table=pd.DataFrame(table)\n",
        "price_table"
      ],
      "metadata": {
        "colab": {
          "base_uri": "https://localhost:8080/",
          "height": 362
        },
        "id": "gs2znWjwQNSW",
        "outputId": "cb3dea07-d9f7-4939-9696-663e479f5757"
      },
      "execution_count": 11,
      "outputs": [
        {
          "output_type": "execute_result",
          "data": {
            "text/plain": [
              "   Buying_price  Trigger Price\n",
              "0       2523.90       2271.510\n",
              "1       1530.55       1377.495\n",
              "2       7415.45       6673.905\n",
              "3       1013.50        912.150\n",
              "4        118.80        106.920\n",
              "5      17161.20      15445.080\n",
              "6       2378.40       2140.560\n",
              "7       2336.85       2103.165\n",
              "8        603.35        543.015\n",
              "9       1751.10       1575.990"
            ],
            "text/html": [
              "\n",
              "  <div id=\"df-57947995-57df-4b3e-87a5-a37e68150f2e\">\n",
              "    <div class=\"colab-df-container\">\n",
              "      <div>\n",
              "<style scoped>\n",
              "    .dataframe tbody tr th:only-of-type {\n",
              "        vertical-align: middle;\n",
              "    }\n",
              "\n",
              "    .dataframe tbody tr th {\n",
              "        vertical-align: top;\n",
              "    }\n",
              "\n",
              "    .dataframe thead th {\n",
              "        text-align: right;\n",
              "    }\n",
              "</style>\n",
              "<table border=\"1\" class=\"dataframe\">\n",
              "  <thead>\n",
              "    <tr style=\"text-align: right;\">\n",
              "      <th></th>\n",
              "      <th>Buying_price</th>\n",
              "      <th>Trigger Price</th>\n",
              "    </tr>\n",
              "  </thead>\n",
              "  <tbody>\n",
              "    <tr>\n",
              "      <th>0</th>\n",
              "      <td>2523.90</td>\n",
              "      <td>2271.510</td>\n",
              "    </tr>\n",
              "    <tr>\n",
              "      <th>1</th>\n",
              "      <td>1530.55</td>\n",
              "      <td>1377.495</td>\n",
              "    </tr>\n",
              "    <tr>\n",
              "      <th>2</th>\n",
              "      <td>7415.45</td>\n",
              "      <td>6673.905</td>\n",
              "    </tr>\n",
              "    <tr>\n",
              "      <th>3</th>\n",
              "      <td>1013.50</td>\n",
              "      <td>912.150</td>\n",
              "    </tr>\n",
              "    <tr>\n",
              "      <th>4</th>\n",
              "      <td>118.80</td>\n",
              "      <td>106.920</td>\n",
              "    </tr>\n",
              "    <tr>\n",
              "      <th>5</th>\n",
              "      <td>17161.20</td>\n",
              "      <td>15445.080</td>\n",
              "    </tr>\n",
              "    <tr>\n",
              "      <th>6</th>\n",
              "      <td>2378.40</td>\n",
              "      <td>2140.560</td>\n",
              "    </tr>\n",
              "    <tr>\n",
              "      <th>7</th>\n",
              "      <td>2336.85</td>\n",
              "      <td>2103.165</td>\n",
              "    </tr>\n",
              "    <tr>\n",
              "      <th>8</th>\n",
              "      <td>603.35</td>\n",
              "      <td>543.015</td>\n",
              "    </tr>\n",
              "    <tr>\n",
              "      <th>9</th>\n",
              "      <td>1751.10</td>\n",
              "      <td>1575.990</td>\n",
              "    </tr>\n",
              "  </tbody>\n",
              "</table>\n",
              "</div>\n",
              "      <button class=\"colab-df-convert\" onclick=\"convertToInteractive('df-57947995-57df-4b3e-87a5-a37e68150f2e')\"\n",
              "              title=\"Convert this dataframe to an interactive table.\"\n",
              "              style=\"display:none;\">\n",
              "        \n",
              "  <svg xmlns=\"http://www.w3.org/2000/svg\" height=\"24px\"viewBox=\"0 0 24 24\"\n",
              "       width=\"24px\">\n",
              "    <path d=\"M0 0h24v24H0V0z\" fill=\"none\"/>\n",
              "    <path d=\"M18.56 5.44l.94 2.06.94-2.06 2.06-.94-2.06-.94-.94-2.06-.94 2.06-2.06.94zm-11 1L8.5 8.5l.94-2.06 2.06-.94-2.06-.94L8.5 2.5l-.94 2.06-2.06.94zm10 10l.94 2.06.94-2.06 2.06-.94-2.06-.94-.94-2.06-.94 2.06-2.06.94z\"/><path d=\"M17.41 7.96l-1.37-1.37c-.4-.4-.92-.59-1.43-.59-.52 0-1.04.2-1.43.59L10.3 9.45l-7.72 7.72c-.78.78-.78 2.05 0 2.83L4 21.41c.39.39.9.59 1.41.59.51 0 1.02-.2 1.41-.59l7.78-7.78 2.81-2.81c.8-.78.8-2.07 0-2.86zM5.41 20L4 18.59l7.72-7.72 1.47 1.35L5.41 20z\"/>\n",
              "  </svg>\n",
              "      </button>\n",
              "      \n",
              "  <style>\n",
              "    .colab-df-container {\n",
              "      display:flex;\n",
              "      flex-wrap:wrap;\n",
              "      gap: 12px;\n",
              "    }\n",
              "\n",
              "    .colab-df-convert {\n",
              "      background-color: #E8F0FE;\n",
              "      border: none;\n",
              "      border-radius: 50%;\n",
              "      cursor: pointer;\n",
              "      display: none;\n",
              "      fill: #1967D2;\n",
              "      height: 32px;\n",
              "      padding: 0 0 0 0;\n",
              "      width: 32px;\n",
              "    }\n",
              "\n",
              "    .colab-df-convert:hover {\n",
              "      background-color: #E2EBFA;\n",
              "      box-shadow: 0px 1px 2px rgba(60, 64, 67, 0.3), 0px 1px 3px 1px rgba(60, 64, 67, 0.15);\n",
              "      fill: #174EA6;\n",
              "    }\n",
              "\n",
              "    [theme=dark] .colab-df-convert {\n",
              "      background-color: #3B4455;\n",
              "      fill: #D2E3FC;\n",
              "    }\n",
              "\n",
              "    [theme=dark] .colab-df-convert:hover {\n",
              "      background-color: #434B5C;\n",
              "      box-shadow: 0px 1px 3px 1px rgba(0, 0, 0, 0.15);\n",
              "      filter: drop-shadow(0px 1px 2px rgba(0, 0, 0, 0.3));\n",
              "      fill: #FFFFFF;\n",
              "    }\n",
              "  </style>\n",
              "\n",
              "      <script>\n",
              "        const buttonEl =\n",
              "          document.querySelector('#df-57947995-57df-4b3e-87a5-a37e68150f2e button.colab-df-convert');\n",
              "        buttonEl.style.display =\n",
              "          google.colab.kernel.accessAllowed ? 'block' : 'none';\n",
              "\n",
              "        async function convertToInteractive(key) {\n",
              "          const element = document.querySelector('#df-57947995-57df-4b3e-87a5-a37e68150f2e');\n",
              "          const dataTable =\n",
              "            await google.colab.kernel.invokeFunction('convertToInteractive',\n",
              "                                                     [key], {});\n",
              "          if (!dataTable) return;\n",
              "\n",
              "          const docLinkHtml = 'Like what you see? Visit the ' +\n",
              "            '<a target=\"_blank\" href=https://colab.research.google.com/notebooks/data_table.ipynb>data table notebook</a>'\n",
              "            + ' to learn more about interactive tables.';\n",
              "          element.innerHTML = '';\n",
              "          dataTable['output_type'] = 'display_data';\n",
              "          await google.colab.output.renderOutput(dataTable, element);\n",
              "          const docLink = document.createElement('div');\n",
              "          docLink.innerHTML = docLinkHtml;\n",
              "          element.appendChild(docLink);\n",
              "        }\n",
              "      </script>\n",
              "    </div>\n",
              "  </div>\n",
              "  "
            ]
          },
          "metadata": {},
          "execution_count": 11
        }
      ]
    },
    {
      "cell_type": "code",
      "source": [
        ""
      ],
      "metadata": {
        "id": "3IXTAaor40js"
      },
      "execution_count": 11,
      "outputs": []
    },
    {
      "cell_type": "markdown",
      "source": [
        "\n",
        "##  **STEP-** **3**. Do send ALERT mail if price of stock has hit its' trigger price. "
      ],
      "metadata": {
        "id": "NUv8HZ59T0ib"
      }
    },
    {
      "cell_type": "markdown",
      "source": [
        "***Note*** - Here enable the 'less secure service' of mail"
      ],
      "metadata": {
        "id": "8Q7Ax9XLxn_i"
      }
    },
    {
      "cell_type": "code",
      "source": [
        "#Here we will  upload  a python file which will contain email id and its password of that mail id though which we want to send mail for alert\n",
        "#here make python file having name email_filefile and  my_emailm variable storing mail address and password variable storing password in string format\n",
        "\n",
        "\n",
        "from google.colab import files\n",
        "files.upload()"
      ],
      "metadata": {
        "colab": {
          "resources": {
            "http://localhost:8080/nbextensions/google.colab/files.js": {
              "data": "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",
              "ok": true,
              "headers": [
                [
                  "content-type",
                  "application/javascript"
                ]
              ],
              "status": 200,
              "status_text": ""
            }
          },
          "base_uri": "https://localhost:8080/",
          "height": 90
        },
        "id": "e6ZIUdLRUIgQ",
        "outputId": "4f4303b1-2531-43b4-c72d-30950032a6c1"
      },
      "execution_count": 12,
      "outputs": [
        {
          "output_type": "display_data",
          "data": {
            "text/plain": [
              "<IPython.core.display.HTML object>"
            ],
            "text/html": [
              "\n",
              "     <input type=\"file\" id=\"files-9ac16ae9-1881-49ea-b3f9-d98657501c96\" name=\"files[]\" multiple disabled\n",
              "        style=\"border:none\" />\n",
              "     <output id=\"result-9ac16ae9-1881-49ea-b3f9-d98657501c96\">\n",
              "      Upload widget is only available when the cell has been executed in the\n",
              "      current browser session. Please rerun this cell to enable.\n",
              "      </output>\n",
              "      <script src=\"/nbextensions/google.colab/files.js\"></script> "
            ]
          },
          "metadata": {}
        },
        {
          "output_type": "stream",
          "name": "stdout",
          "text": [
            "Saving email_filefile.py to email_filefile.py\n"
          ]
        },
        {
          "output_type": "execute_result",
          "data": {
            "text/plain": [
              "{'email_filefile.py': b\"my_emailm='be@gmail.com'\\r\\npassword='p'\"}"
            ]
          },
          "metadata": {},
          "execution_count": 12
        }
      ]
    },
    {
      "cell_type": "code",
      "source": [
        "# This file is imported\n",
        "import email_filefile"
      ],
      "metadata": {
        "id": "EPEXo0ndUK0S"
      },
      "execution_count": 13,
      "outputs": []
    },
    {
      "cell_type": "code",
      "source": [
        "# This function is called to send email\n",
        "\n",
        "def send_me_email(my_emaill, password,stock_name, value):\n",
        "  #global server\n",
        "  server=smtplib.SMTP('smtp.gmail.com',587)\n",
        "  server.ehlo()\n",
        "  server.starttls()\n",
        "  server.login(my_emaill,password)\n",
        " \n",
        "  msg=f'subject: Price of {stock_name} has fallen below trigger price i.e.{value}  . Be alert '\n",
        "  # This message will be received\n",
        "  \n",
        "  server.sendmail(\n",
        "     \n",
        "      my_emaill,my_emaill,msg\n",
        "\n",
        "  )\n",
        "  print('You have received an email ' )\n",
        "  server.quit()\n",
        "\n"
      ],
      "metadata": {
        "id": "7DeHf6UCrTEn"
      },
      "execution_count": 14,
      "outputs": []
    },
    {
      "cell_type": "code",
      "source": [
        "#We know that regularly we have to check price of each stock, after some duration (let say after every 5 minutes)\n",
        "# So this function will return the updated price of all stocks in a list\n",
        "\n",
        "\n",
        "new_price_of_stock=[]\n",
        "def updated_value_of_stock(): \n",
        "  new_price_of_stock.clear()\n",
        "\n",
        "  for i in url_of_stock:   # for all stock , we have to Update\n",
        "    url=i\n",
        "    res= requests.get(url)\n",
        "    res.status_code\n",
        "    if res.status_code != 200 :\n",
        "      raise Exception('Failed to load page {}'.format(url))\n",
        "    doc_each=BeautifulSoup(res.text, 'html.parser')\n",
        "    input_tags_each= doc_each.find_all('input',{'id':'nsespotval'})\n",
        "    \n",
        "    \n",
        "    \n",
        "    stock_value_each=input_tags_each[0]['value']\n",
        "    new_price_of_stock.append(convert_to_FLOAT(stock_value_each))\n",
        "  return new_price_of_stock\n"
      ],
      "metadata": {
        "id": "EjmwKzzorfIp"
      },
      "execution_count": 15,
      "outputs": []
    },
    {
      "cell_type": "code",
      "source": [
        "# NOW , this is very crucial step\n",
        "# we will let while loop run forever with 10 minutes(600 seconds) sleep after every run\n",
        "# and after updating values of stock by calling updated_value_of_stock, we check whether price of stock has gone below trigger price(which was set initially ), if yes then mail to alert user.\n",
        "\n",
        "while (True):\n",
        "  updated_value_of_stock()\n",
        "  for i in range(0, len(new_price_of_stock)):\n",
        "      #print(i)\n",
        "      if new_price_of_stock[i] > trigger_price[i]: # Here to see result we did '>', but in actually senario it will be '<'\n",
        "\n",
        "        print( 'Trigger Price -', trigger_price[i], ' is reached below, of stock - ',names_of_stock[i] )\n",
        "        send_me_email(email_filefile.my_emailm,email_filefile.password,names_of_stock[i],trigger_price[i])\n",
        "\n",
        "  time.sleep(600) "
      ],
      "metadata": {
        "colab": {
          "base_uri": "https://localhost:8080/",
          "height": 415
        },
        "id": "UyWAn8jatUOy",
        "outputId": "13ba3369-f94e-4921-aa34-b32806d7a100"
      },
      "execution_count": 16,
      "outputs": [
        {
          "output_type": "stream",
          "name": "stdout",
          "text": [
            "Trigger Price - 2271.51  is reached below, of stock -  Titan Company\n"
          ]
        },
        {
          "output_type": "error",
          "ename": "SMTPAuthenticationError",
          "evalue": "ignored",
          "traceback": [
            "\u001b[0;31m---------------------------------------------------------------------------\u001b[0m",
            "\u001b[0;31mSMTPAuthenticationError\u001b[0m                   Traceback (most recent call last)",
            "\u001b[0;32m<ipython-input-16-df332a1833cd>\u001b[0m in \u001b[0;36m<module>\u001b[0;34m()\u001b[0m\n\u001b[1;32m     10\u001b[0m \u001b[0;34m\u001b[0m\u001b[0m\n\u001b[1;32m     11\u001b[0m         \u001b[0mprint\u001b[0m\u001b[0;34m(\u001b[0m \u001b[0;34m'Trigger Price -'\u001b[0m\u001b[0;34m,\u001b[0m \u001b[0mtrigger_price\u001b[0m\u001b[0;34m[\u001b[0m\u001b[0mi\u001b[0m\u001b[0;34m]\u001b[0m\u001b[0;34m,\u001b[0m \u001b[0;34m' is reached below, of stock - '\u001b[0m\u001b[0;34m,\u001b[0m\u001b[0mnames_of_stock\u001b[0m\u001b[0;34m[\u001b[0m\u001b[0mi\u001b[0m\u001b[0;34m]\u001b[0m \u001b[0;34m)\u001b[0m\u001b[0;34m\u001b[0m\u001b[0;34m\u001b[0m\u001b[0m\n\u001b[0;32m---> 12\u001b[0;31m         \u001b[0msend_me_email\u001b[0m\u001b[0;34m(\u001b[0m\u001b[0memail_filefile\u001b[0m\u001b[0;34m.\u001b[0m\u001b[0mmy_emailm\u001b[0m\u001b[0;34m,\u001b[0m\u001b[0memail_filefile\u001b[0m\u001b[0;34m.\u001b[0m\u001b[0mpassword\u001b[0m\u001b[0;34m,\u001b[0m\u001b[0mnames_of_stock\u001b[0m\u001b[0;34m[\u001b[0m\u001b[0mi\u001b[0m\u001b[0;34m]\u001b[0m\u001b[0;34m,\u001b[0m\u001b[0mtrigger_price\u001b[0m\u001b[0;34m[\u001b[0m\u001b[0mi\u001b[0m\u001b[0;34m]\u001b[0m\u001b[0;34m)\u001b[0m\u001b[0;34m\u001b[0m\u001b[0;34m\u001b[0m\u001b[0m\n\u001b[0m\u001b[1;32m     13\u001b[0m \u001b[0;34m\u001b[0m\u001b[0m\n\u001b[1;32m     14\u001b[0m   \u001b[0mtime\u001b[0m\u001b[0;34m.\u001b[0m\u001b[0msleep\u001b[0m\u001b[0;34m(\u001b[0m\u001b[0;36m600\u001b[0m\u001b[0;34m)\u001b[0m\u001b[0;34m\u001b[0m\u001b[0;34m\u001b[0m\u001b[0m\n",
            "\u001b[0;32m<ipython-input-14-24013a7180b6>\u001b[0m in \u001b[0;36msend_me_email\u001b[0;34m(my_emaill, password, stock_name, value)\u001b[0m\n\u001b[1;32m      6\u001b[0m   \u001b[0mserver\u001b[0m\u001b[0;34m.\u001b[0m\u001b[0mehlo\u001b[0m\u001b[0;34m(\u001b[0m\u001b[0;34m)\u001b[0m\u001b[0;34m\u001b[0m\u001b[0;34m\u001b[0m\u001b[0m\n\u001b[1;32m      7\u001b[0m   \u001b[0mserver\u001b[0m\u001b[0;34m.\u001b[0m\u001b[0mstarttls\u001b[0m\u001b[0;34m(\u001b[0m\u001b[0;34m)\u001b[0m\u001b[0;34m\u001b[0m\u001b[0;34m\u001b[0m\u001b[0m\n\u001b[0;32m----> 8\u001b[0;31m   \u001b[0mserver\u001b[0m\u001b[0;34m.\u001b[0m\u001b[0mlogin\u001b[0m\u001b[0;34m(\u001b[0m\u001b[0mmy_emaill\u001b[0m\u001b[0;34m,\u001b[0m\u001b[0mpassword\u001b[0m\u001b[0;34m)\u001b[0m\u001b[0;34m\u001b[0m\u001b[0;34m\u001b[0m\u001b[0m\n\u001b[0m\u001b[1;32m      9\u001b[0m \u001b[0;34m\u001b[0m\u001b[0m\n\u001b[1;32m     10\u001b[0m   \u001b[0mmsg\u001b[0m\u001b[0;34m=\u001b[0m\u001b[0;34mf'subject: Price of {stock_name} has fallen below trigger price i.e.{value}  . Be alert '\u001b[0m\u001b[0;34m\u001b[0m\u001b[0;34m\u001b[0m\u001b[0m\n",
            "\u001b[0;32m/usr/lib/python3.7/smtplib.py\u001b[0m in \u001b[0;36mlogin\u001b[0;34m(self, user, password, initial_response_ok)\u001b[0m\n\u001b[1;32m    733\u001b[0m \u001b[0;34m\u001b[0m\u001b[0m\n\u001b[1;32m    734\u001b[0m         \u001b[0;31m# We could not login successfully.  Return result of last attempt.\u001b[0m\u001b[0;34m\u001b[0m\u001b[0;34m\u001b[0m\u001b[0;34m\u001b[0m\u001b[0m\n\u001b[0;32m--> 735\u001b[0;31m         \u001b[0;32mraise\u001b[0m \u001b[0mlast_exception\u001b[0m\u001b[0;34m\u001b[0m\u001b[0;34m\u001b[0m\u001b[0m\n\u001b[0m\u001b[1;32m    736\u001b[0m \u001b[0;34m\u001b[0m\u001b[0m\n\u001b[1;32m    737\u001b[0m     \u001b[0;32mdef\u001b[0m \u001b[0mstarttls\u001b[0m\u001b[0;34m(\u001b[0m\u001b[0mself\u001b[0m\u001b[0;34m,\u001b[0m \u001b[0mkeyfile\u001b[0m\u001b[0;34m=\u001b[0m\u001b[0;32mNone\u001b[0m\u001b[0;34m,\u001b[0m \u001b[0mcertfile\u001b[0m\u001b[0;34m=\u001b[0m\u001b[0;32mNone\u001b[0m\u001b[0;34m,\u001b[0m \u001b[0mcontext\u001b[0m\u001b[0;34m=\u001b[0m\u001b[0;32mNone\u001b[0m\u001b[0;34m)\u001b[0m\u001b[0;34m:\u001b[0m\u001b[0;34m\u001b[0m\u001b[0;34m\u001b[0m\u001b[0m\n",
            "\u001b[0;32m/usr/lib/python3.7/smtplib.py\u001b[0m in \u001b[0;36mlogin\u001b[0;34m(self, user, password, initial_response_ok)\u001b[0m\n\u001b[1;32m    724\u001b[0m                 (code, resp) = self.auth(\n\u001b[1;32m    725\u001b[0m                     \u001b[0mauthmethod\u001b[0m\u001b[0;34m,\u001b[0m \u001b[0mgetattr\u001b[0m\u001b[0;34m(\u001b[0m\u001b[0mself\u001b[0m\u001b[0;34m,\u001b[0m \u001b[0mmethod_name\u001b[0m\u001b[0;34m)\u001b[0m\u001b[0;34m,\u001b[0m\u001b[0;34m\u001b[0m\u001b[0;34m\u001b[0m\u001b[0m\n\u001b[0;32m--> 726\u001b[0;31m                     initial_response_ok=initial_response_ok)\n\u001b[0m\u001b[1;32m    727\u001b[0m                 \u001b[0;31m# 235 == 'Authentication successful'\u001b[0m\u001b[0;34m\u001b[0m\u001b[0;34m\u001b[0m\u001b[0;34m\u001b[0m\u001b[0m\n\u001b[1;32m    728\u001b[0m                 \u001b[0;31m# 503 == 'Error: already authenticated'\u001b[0m\u001b[0;34m\u001b[0m\u001b[0;34m\u001b[0m\u001b[0;34m\u001b[0m\u001b[0m\n",
            "\u001b[0;32m/usr/lib/python3.7/smtplib.py\u001b[0m in \u001b[0;36mauth\u001b[0;34m(self, mechanism, authobject, initial_response_ok)\u001b[0m\n\u001b[1;32m    645\u001b[0m         \u001b[0;32mif\u001b[0m \u001b[0mcode\u001b[0m \u001b[0;32min\u001b[0m \u001b[0;34m(\u001b[0m\u001b[0;36m235\u001b[0m\u001b[0;34m,\u001b[0m \u001b[0;36m503\u001b[0m\u001b[0;34m)\u001b[0m\u001b[0;34m:\u001b[0m\u001b[0;34m\u001b[0m\u001b[0;34m\u001b[0m\u001b[0m\n\u001b[1;32m    646\u001b[0m             \u001b[0;32mreturn\u001b[0m \u001b[0;34m(\u001b[0m\u001b[0mcode\u001b[0m\u001b[0;34m,\u001b[0m \u001b[0mresp\u001b[0m\u001b[0;34m)\u001b[0m\u001b[0;34m\u001b[0m\u001b[0;34m\u001b[0m\u001b[0m\n\u001b[0;32m--> 647\u001b[0;31m         \u001b[0;32mraise\u001b[0m \u001b[0mSMTPAuthenticationError\u001b[0m\u001b[0;34m(\u001b[0m\u001b[0mcode\u001b[0m\u001b[0;34m,\u001b[0m \u001b[0mresp\u001b[0m\u001b[0;34m)\u001b[0m\u001b[0;34m\u001b[0m\u001b[0;34m\u001b[0m\u001b[0m\n\u001b[0m\u001b[1;32m    648\u001b[0m \u001b[0;34m\u001b[0m\u001b[0m\n\u001b[1;32m    649\u001b[0m     \u001b[0;32mdef\u001b[0m \u001b[0mauth_cram_md5\u001b[0m\u001b[0;34m(\u001b[0m\u001b[0mself\u001b[0m\u001b[0;34m,\u001b[0m \u001b[0mchallenge\u001b[0m\u001b[0;34m=\u001b[0m\u001b[0;32mNone\u001b[0m\u001b[0;34m)\u001b[0m\u001b[0;34m:\u001b[0m\u001b[0;34m\u001b[0m\u001b[0;34m\u001b[0m\u001b[0m\n",
            "\u001b[0;31mSMTPAuthenticationError\u001b[0m: (535, b'5.7.8 Username and Password not accepted. Learn more at\\n5.7.8  https://support.google.com/mail/?p=BadCredentials z8-20020ac87f88000000b002e1cecad0e4sm4905967qtj.33 - gsmtp')"
          ]
        }
      ]
    },
    {
      "cell_type": "markdown",
      "source": [
        "\n",
        "\n",
        "---\n",
        "\n",
        "# Future Advancement to this project\n",
        "\n",
        "1. We would upload this on google cloud, so that it run  24 * 7 . Program such that from Monday - Friday when market open it initialise its trigger value and  any before market close , it notify us when needed to take action .\n",
        "\n",
        "2. Here , trigger price is always 90% of buying price , but it can be improved if we calculate this trigger price using Machine Learning based on its flactuation history , recent news regarding that company, and other factor determining when should we sell.\n",
        "\n",
        "\n"
      ],
      "metadata": {
        "id": "p96zfkmSyZAc"
      }
    },
    {
      "cell_type": "markdown",
      "source": [
        "\n",
        "\n",
        "\n",
        "---\n",
        "\n",
        "\n",
        "---\n",
        "\n",
        "\n",
        "\n",
        "---\n",
        "\n"
      ],
      "metadata": {
        "id": "AUdFJQ6DyZi0"
      }
    }
  ]
}